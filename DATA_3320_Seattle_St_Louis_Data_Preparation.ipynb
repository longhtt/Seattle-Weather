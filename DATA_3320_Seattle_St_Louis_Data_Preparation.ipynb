{
  "nbformat": 4,
  "nbformat_minor": 0,
  "metadata": {
    "colab": {
      "provenance": [],
      "include_colab_link": true
    },
    "kernelspec": {
      "name": "python3",
      "display_name": "Python 3"
    },
    "language_info": {
      "name": "python"
    }
  },
  "cells": [
    {
      "cell_type": "markdown",
      "metadata": {
        "id": "view-in-github",
        "colab_type": "text"
      },
      "source": [
        "<a href=\"https://colab.research.google.com/github/longhtt/Seattle-Weather/blob/main/DATA_3320_Seattle_St_Louis_Data_Preparation.ipynb\" target=\"_parent\"><img src=\"https://colab.research.google.com/assets/colab-badge.svg\" alt=\"Open In Colab\"/></a>"
      ]
    },
    {
      "cell_type": "markdown",
      "source": [
        "## Introduction"
      ],
      "metadata": {
        "id": "cOSJyABoshOK"
      }
    },
    {
      "cell_type": "markdown",
      "source": [
        "Provide a brief introduction to the purpose of this notebook."
      ],
      "metadata": {
        "id": "26hIPGtBsi7g"
      }
    },
    {
      "cell_type": "markdown",
      "source": [
        "## Import libraries"
      ],
      "metadata": {
        "id": "dwvtDMCYlPus"
      }
    },
    {
      "cell_type": "code",
      "execution_count": null,
      "metadata": {
        "id": "DQZAzYri_ru5"
      },
      "outputs": [],
      "source": [
        "import pandas as pd\n",
        "import numpy as np\n",
        "import matplotlib.pyplot as plt\n",
        "import seaborn as sns\n",
        "sns.set_theme(style='whitegrid')\n",
        "import missingno as msno"
      ]
    },
    {
      "cell_type": "markdown",
      "source": [
        "## Load the data"
      ],
      "metadata": {
        "id": "5qccuG8vy7Ja"
      }
    },
    {
      "cell_type": "markdown",
      "source": [
        "The NOAA National Centers for Environmental Information provides access to many types of environmental data, including records of daily precipitation.\n",
        "\n",
        "We can use their [website](https://www.ncei.noaa.gov/cdo-web/search?datasetid=GHCND) to request records of daily precipitation from Seattle and St. Louis (or other locations of interest) for the last 5 years (2018 - 2022). \n",
        "\n",
        "I have already obtained the data. The data are available at this [github repository](https://github.com/brian-fischer/DATA-3320/tree/main/weather) and are called `seattle_rain.csv` and `stl_rain.csv`."
      ],
      "metadata": {
        "id": "fDJ80Omny91y"
      }
    },
    {
      "cell_type": "markdown",
      "source": [
        "Load the Seattle data set"
      ],
      "metadata": {
        "id": "7eodKzMZl5h9"
      }
    },
    {
      "cell_type": "code",
      "source": [
        "df_seattle = pd.read_csv('https://raw.githubusercontent.com/brian-fischer/DATA-3320/main/weather/seattle_rain.csv')"
      ],
      "metadata": {
        "id": "TpRcvNoalbnG"
      },
      "execution_count": null,
      "outputs": []
    },
    {
      "cell_type": "markdown",
      "source": [
        "Load the St. Louis data set"
      ],
      "metadata": {
        "id": "_Tv9XW6rxTCz"
      }
    },
    {
      "cell_type": "code",
      "source": [
        "df_stlouis = "
      ],
      "metadata": {
        "id": "eaK927g8xTCz"
      },
      "execution_count": null,
      "outputs": []
    },
    {
      "cell_type": "markdown",
      "source": [
        "## Explore the contents of the data sets"
      ],
      "metadata": {
        "id": "OHVSgzXFd4nf"
      }
    },
    {
      "cell_type": "markdown",
      "source": [
        "## Convert data types, if necessary"
      ],
      "metadata": {
        "id": "kTG4W94-irIA"
      }
    },
    {
      "cell_type": "markdown",
      "source": [
        "## Are the data suitable for answering the question?"
      ],
      "metadata": {
        "id": "35pKxSfb2zIs"
      }
    },
    {
      "cell_type": "markdown",
      "source": [
        "We want to perform quick exploratory data analysis to determine whether the data are sufficient to answer our question. If the data are not sufficient, we do not want to waste time doing anything that will not be productive."
      ],
      "metadata": {
        "id": "kywuWQaG22rv"
      }
    },
    {
      "cell_type": "markdown",
      "source": [
        "## Select relevant subsets of the data"
      ],
      "metadata": {
        "id": "HbsdH56_ijIS"
      }
    },
    {
      "cell_type": "markdown",
      "source": [
        "## Identify and deal with missing values"
      ],
      "metadata": {
        "id": "aAaUY6N1rtoa"
      }
    },
    {
      "cell_type": "markdown",
      "source": [
        "## Join data frames keeping `DATE` and `PRCP` columns"
      ],
      "metadata": {
        "id": "BkCnFJdVryvv"
      }
    },
    {
      "cell_type": "markdown",
      "source": [
        "## Create a tidy data frame with columns for city and precipitation"
      ],
      "metadata": {
        "id": "TklEWrlhsEiQ"
      }
    },
    {
      "cell_type": "markdown",
      "source": [
        "### Rename columns or values to follow best practices"
      ],
      "metadata": {
        "id": "ePmgfgrosQWN"
      }
    },
    {
      "cell_type": "markdown",
      "source": [
        "## Create relevant derived variables as new columns"
      ],
      "metadata": {
        "id": "2IZlt3PksMUK"
      }
    },
    {
      "cell_type": "markdown",
      "source": [
        "We may already know that we want to process the data to create new variables from the existing variables. However, we often start analyzing the data and realize that it is useful to create new variables derived from the existing variables. It is fine to return to modify this step after exploring the data further."
      ],
      "metadata": {
        "id": "hxBtraVUkDxr"
      }
    },
    {
      "cell_type": "markdown",
      "source": [
        "## Export the clean .csv file"
      ],
      "metadata": {
        "id": "oKGHtonZsZCM"
      }
    },
    {
      "cell_type": "code",
      "source": [],
      "metadata": {
        "id": "lp0iLYOqKtbQ"
      },
      "execution_count": null,
      "outputs": []
    }
  ]
}