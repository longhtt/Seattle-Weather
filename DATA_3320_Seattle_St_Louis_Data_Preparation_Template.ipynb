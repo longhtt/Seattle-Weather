{
  "nbformat": 4,
  "nbformat_minor": 0,
  "metadata": {
    "colab": {
      "provenance": [],
      "include_colab_link": true
    },
    "kernelspec": {
      "name": "python3",
      "display_name": "Python 3"
    },
    "language_info": {
      "name": "python"
    }
  },
  "cells": [
    {
      "cell_type": "markdown",
      "metadata": {
        "id": "view-in-github",
        "colab_type": "text"
      },
      "source": [
        "<a href=\"https://colab.research.google.com/github/longhtt/Seattle-Weather/blob/main/DATA_3320_Seattle_St_Louis_Data_Preparation_Template.ipynb\" target=\"_parent\"><img src=\"https://colab.research.google.com/assets/colab-badge.svg\" alt=\"Open In Colab\"/></a>"
      ]
    },
    {
      "cell_type": "markdown",
      "source": [
        "## Introduction"
      ],
      "metadata": {
        "id": "cOSJyABoshOK"
      }
    },
    {
      "cell_type": "markdown",
      "source": [
        "Provide a brief introduction to the purpose of this notebook."
      ],
      "metadata": {
        "id": "26hIPGtBsi7g"
      }
    },
    {
      "cell_type": "markdown",
      "source": [
        "## Import libraries"
      ],
      "metadata": {
        "id": "dwvtDMCYlPus"
      }
    },
    {
      "cell_type": "code",
      "execution_count": 1,
      "metadata": {
        "id": "DQZAzYri_ru5"
      },
      "outputs": [],
      "source": [
        "import pandas as pd\n",
        "import numpy as np\n",
        "import matplotlib.pyplot as plt\n",
        "import seaborn as sns\n",
        "sns.set_theme(style='whitegrid')\n",
        "import missingno as msno"
      ]
    },
    {
      "cell_type": "markdown",
      "source": [
        "## Load the data"
      ],
      "metadata": {
        "id": "5qccuG8vy7Ja"
      }
    },
    {
      "cell_type": "markdown",
      "source": [
        "The NOAA National Centers for Environmental Information provides access to many types of environmental data, including records of daily precipitation.\n",
        "\n",
        "We can use their [website](https://www.ncei.noaa.gov/cdo-web/search?datasetid=GHCND) to request records of daily precipitation from Seattle and St. Louis (or other locations of interest) for the last 5 years (2018 - 2022). \n",
        "\n",
        "I have already obtained the data. The data are available at this [github repository](https://github.com/brian-fischer/DATA-3320/tree/main/weather) and are called `seattle_rain.csv` and `stl_rain.csv`."
      ],
      "metadata": {
        "id": "fDJ80Omny91y"
      }
    },
    {
      "cell_type": "markdown",
      "source": [
        "Load the Seattle data set"
      ],
      "metadata": {
        "id": "7eodKzMZl5h9"
      }
    },
    {
      "cell_type": "code",
      "source": [
        "df_seattle = pd.read_csv('https://raw.githubusercontent.com/longhtt/Seattle-Weather/main/seattle_rain.csv')"
      ],
      "metadata": {
        "id": "TpRcvNoalbnG"
      },
      "execution_count": 2,
      "outputs": []
    },
    {
      "cell_type": "markdown",
      "source": [
        "Load the St. Louis data set"
      ],
      "metadata": {
        "id": "_Tv9XW6rxTCz"
      }
    },
    {
      "cell_type": "code",
      "source": [
        "df_stlouis = pd.read_csv('https://raw.githubusercontent.com/longhtt/Seattle-Weather/main/stl_rain.csv')"
      ],
      "metadata": {
        "id": "eaK927g8xTCz"
      },
      "execution_count": 3,
      "outputs": []
    },
    {
      "cell_type": "markdown",
      "source": [
        "## Explore the contents of the data sets"
      ],
      "metadata": {
        "id": "OHVSgzXFd4nf"
      }
    },
    {
      "cell_type": "markdown",
      "source": [
        "seattle df"
      ],
      "metadata": {
        "id": "wsmdwW5NBDwj"
      }
    },
    {
      "cell_type": "code",
      "source": [
        "df_seattle"
      ],
      "metadata": {
        "id": "6O0i0CZBBC4S",
        "outputId": "92999d08-26d5-46d1-f7fe-bbbe3d3f409b",
        "colab": {
          "base_uri": "https://localhost:8080/",
          "height": 424
        }
      },
      "execution_count": 4,
      "outputs": [
        {
          "output_type": "execute_result",
          "data": {
            "text/plain": [
              "          STATION                    NAME      DATE  DAPR  MDPR  PRCP  SNOW  \\\n",
              "0     US1WAKG0225  SEATTLE 2.1 ESE, WA US    1/1/18   NaN   NaN  0.00   NaN   \n",
              "1     US1WAKG0225  SEATTLE 2.1 ESE, WA US    1/2/18   NaN   NaN  0.00   NaN   \n",
              "2     US1WAKG0225  SEATTLE 2.1 ESE, WA US    1/3/18   NaN   NaN  0.00   NaN   \n",
              "3     US1WAKG0225  SEATTLE 2.1 ESE, WA US    1/4/18   NaN   NaN  0.00   NaN   \n",
              "4     US1WAKG0225  SEATTLE 2.1 ESE, WA US    1/5/18   NaN   NaN  0.25   NaN   \n",
              "...           ...                     ...       ...   ...   ...   ...   ...   \n",
              "1653  US1WAKG0225  SEATTLE 2.1 ESE, WA US  12/27/22   NaN   NaN  0.78   NaN   \n",
              "1654  US1WAKG0225  SEATTLE 2.1 ESE, WA US  12/28/22   NaN   NaN  0.40   NaN   \n",
              "1655  US1WAKG0225  SEATTLE 2.1 ESE, WA US  12/29/22   NaN   NaN  0.03   NaN   \n",
              "1656  US1WAKG0225  SEATTLE 2.1 ESE, WA US  12/30/22   NaN   NaN  0.62   NaN   \n",
              "1657  US1WAKG0225  SEATTLE 2.1 ESE, WA US  12/31/22   NaN   NaN  0.17   NaN   \n",
              "\n",
              "      SNWD  WESD  WESF  \n",
              "0      NaN   NaN   NaN  \n",
              "1      NaN   NaN   NaN  \n",
              "2      NaN   NaN   NaN  \n",
              "3      NaN   NaN   NaN  \n",
              "4      NaN   NaN   NaN  \n",
              "...    ...   ...   ...  \n",
              "1653   NaN   NaN   NaN  \n",
              "1654   NaN   NaN   NaN  \n",
              "1655   NaN   NaN   NaN  \n",
              "1656   NaN   NaN   NaN  \n",
              "1657   NaN   NaN   NaN  \n",
              "\n",
              "[1658 rows x 10 columns]"
            ],
            "text/html": [
              "\n",
              "  <div id=\"df-2ff06865-2ebe-43ed-9325-726284d0050f\">\n",
              "    <div class=\"colab-df-container\">\n",
              "      <div>\n",
              "<style scoped>\n",
              "    .dataframe tbody tr th:only-of-type {\n",
              "        vertical-align: middle;\n",
              "    }\n",
              "\n",
              "    .dataframe tbody tr th {\n",
              "        vertical-align: top;\n",
              "    }\n",
              "\n",
              "    .dataframe thead th {\n",
              "        text-align: right;\n",
              "    }\n",
              "</style>\n",
              "<table border=\"1\" class=\"dataframe\">\n",
              "  <thead>\n",
              "    <tr style=\"text-align: right;\">\n",
              "      <th></th>\n",
              "      <th>STATION</th>\n",
              "      <th>NAME</th>\n",
              "      <th>DATE</th>\n",
              "      <th>DAPR</th>\n",
              "      <th>MDPR</th>\n",
              "      <th>PRCP</th>\n",
              "      <th>SNOW</th>\n",
              "      <th>SNWD</th>\n",
              "      <th>WESD</th>\n",
              "      <th>WESF</th>\n",
              "    </tr>\n",
              "  </thead>\n",
              "  <tbody>\n",
              "    <tr>\n",
              "      <th>0</th>\n",
              "      <td>US1WAKG0225</td>\n",
              "      <td>SEATTLE 2.1 ESE, WA US</td>\n",
              "      <td>1/1/18</td>\n",
              "      <td>NaN</td>\n",
              "      <td>NaN</td>\n",
              "      <td>0.00</td>\n",
              "      <td>NaN</td>\n",
              "      <td>NaN</td>\n",
              "      <td>NaN</td>\n",
              "      <td>NaN</td>\n",
              "    </tr>\n",
              "    <tr>\n",
              "      <th>1</th>\n",
              "      <td>US1WAKG0225</td>\n",
              "      <td>SEATTLE 2.1 ESE, WA US</td>\n",
              "      <td>1/2/18</td>\n",
              "      <td>NaN</td>\n",
              "      <td>NaN</td>\n",
              "      <td>0.00</td>\n",
              "      <td>NaN</td>\n",
              "      <td>NaN</td>\n",
              "      <td>NaN</td>\n",
              "      <td>NaN</td>\n",
              "    </tr>\n",
              "    <tr>\n",
              "      <th>2</th>\n",
              "      <td>US1WAKG0225</td>\n",
              "      <td>SEATTLE 2.1 ESE, WA US</td>\n",
              "      <td>1/3/18</td>\n",
              "      <td>NaN</td>\n",
              "      <td>NaN</td>\n",
              "      <td>0.00</td>\n",
              "      <td>NaN</td>\n",
              "      <td>NaN</td>\n",
              "      <td>NaN</td>\n",
              "      <td>NaN</td>\n",
              "    </tr>\n",
              "    <tr>\n",
              "      <th>3</th>\n",
              "      <td>US1WAKG0225</td>\n",
              "      <td>SEATTLE 2.1 ESE, WA US</td>\n",
              "      <td>1/4/18</td>\n",
              "      <td>NaN</td>\n",
              "      <td>NaN</td>\n",
              "      <td>0.00</td>\n",
              "      <td>NaN</td>\n",
              "      <td>NaN</td>\n",
              "      <td>NaN</td>\n",
              "      <td>NaN</td>\n",
              "    </tr>\n",
              "    <tr>\n",
              "      <th>4</th>\n",
              "      <td>US1WAKG0225</td>\n",
              "      <td>SEATTLE 2.1 ESE, WA US</td>\n",
              "      <td>1/5/18</td>\n",
              "      <td>NaN</td>\n",
              "      <td>NaN</td>\n",
              "      <td>0.25</td>\n",
              "      <td>NaN</td>\n",
              "      <td>NaN</td>\n",
              "      <td>NaN</td>\n",
              "      <td>NaN</td>\n",
              "    </tr>\n",
              "    <tr>\n",
              "      <th>...</th>\n",
              "      <td>...</td>\n",
              "      <td>...</td>\n",
              "      <td>...</td>\n",
              "      <td>...</td>\n",
              "      <td>...</td>\n",
              "      <td>...</td>\n",
              "      <td>...</td>\n",
              "      <td>...</td>\n",
              "      <td>...</td>\n",
              "      <td>...</td>\n",
              "    </tr>\n",
              "    <tr>\n",
              "      <th>1653</th>\n",
              "      <td>US1WAKG0225</td>\n",
              "      <td>SEATTLE 2.1 ESE, WA US</td>\n",
              "      <td>12/27/22</td>\n",
              "      <td>NaN</td>\n",
              "      <td>NaN</td>\n",
              "      <td>0.78</td>\n",
              "      <td>NaN</td>\n",
              "      <td>NaN</td>\n",
              "      <td>NaN</td>\n",
              "      <td>NaN</td>\n",
              "    </tr>\n",
              "    <tr>\n",
              "      <th>1654</th>\n",
              "      <td>US1WAKG0225</td>\n",
              "      <td>SEATTLE 2.1 ESE, WA US</td>\n",
              "      <td>12/28/22</td>\n",
              "      <td>NaN</td>\n",
              "      <td>NaN</td>\n",
              "      <td>0.40</td>\n",
              "      <td>NaN</td>\n",
              "      <td>NaN</td>\n",
              "      <td>NaN</td>\n",
              "      <td>NaN</td>\n",
              "    </tr>\n",
              "    <tr>\n",
              "      <th>1655</th>\n",
              "      <td>US1WAKG0225</td>\n",
              "      <td>SEATTLE 2.1 ESE, WA US</td>\n",
              "      <td>12/29/22</td>\n",
              "      <td>NaN</td>\n",
              "      <td>NaN</td>\n",
              "      <td>0.03</td>\n",
              "      <td>NaN</td>\n",
              "      <td>NaN</td>\n",
              "      <td>NaN</td>\n",
              "      <td>NaN</td>\n",
              "    </tr>\n",
              "    <tr>\n",
              "      <th>1656</th>\n",
              "      <td>US1WAKG0225</td>\n",
              "      <td>SEATTLE 2.1 ESE, WA US</td>\n",
              "      <td>12/30/22</td>\n",
              "      <td>NaN</td>\n",
              "      <td>NaN</td>\n",
              "      <td>0.62</td>\n",
              "      <td>NaN</td>\n",
              "      <td>NaN</td>\n",
              "      <td>NaN</td>\n",
              "      <td>NaN</td>\n",
              "    </tr>\n",
              "    <tr>\n",
              "      <th>1657</th>\n",
              "      <td>US1WAKG0225</td>\n",
              "      <td>SEATTLE 2.1 ESE, WA US</td>\n",
              "      <td>12/31/22</td>\n",
              "      <td>NaN</td>\n",
              "      <td>NaN</td>\n",
              "      <td>0.17</td>\n",
              "      <td>NaN</td>\n",
              "      <td>NaN</td>\n",
              "      <td>NaN</td>\n",
              "      <td>NaN</td>\n",
              "    </tr>\n",
              "  </tbody>\n",
              "</table>\n",
              "<p>1658 rows × 10 columns</p>\n",
              "</div>\n",
              "      <button class=\"colab-df-convert\" onclick=\"convertToInteractive('df-2ff06865-2ebe-43ed-9325-726284d0050f')\"\n",
              "              title=\"Convert this dataframe to an interactive table.\"\n",
              "              style=\"display:none;\">\n",
              "        \n",
              "  <svg xmlns=\"http://www.w3.org/2000/svg\" height=\"24px\"viewBox=\"0 0 24 24\"\n",
              "       width=\"24px\">\n",
              "    <path d=\"M0 0h24v24H0V0z\" fill=\"none\"/>\n",
              "    <path d=\"M18.56 5.44l.94 2.06.94-2.06 2.06-.94-2.06-.94-.94-2.06-.94 2.06-2.06.94zm-11 1L8.5 8.5l.94-2.06 2.06-.94-2.06-.94L8.5 2.5l-.94 2.06-2.06.94zm10 10l.94 2.06.94-2.06 2.06-.94-2.06-.94-.94-2.06-.94 2.06-2.06.94z\"/><path d=\"M17.41 7.96l-1.37-1.37c-.4-.4-.92-.59-1.43-.59-.52 0-1.04.2-1.43.59L10.3 9.45l-7.72 7.72c-.78.78-.78 2.05 0 2.83L4 21.41c.39.39.9.59 1.41.59.51 0 1.02-.2 1.41-.59l7.78-7.78 2.81-2.81c.8-.78.8-2.07 0-2.86zM5.41 20L4 18.59l7.72-7.72 1.47 1.35L5.41 20z\"/>\n",
              "  </svg>\n",
              "      </button>\n",
              "      \n",
              "  <style>\n",
              "    .colab-df-container {\n",
              "      display:flex;\n",
              "      flex-wrap:wrap;\n",
              "      gap: 12px;\n",
              "    }\n",
              "\n",
              "    .colab-df-convert {\n",
              "      background-color: #E8F0FE;\n",
              "      border: none;\n",
              "      border-radius: 50%;\n",
              "      cursor: pointer;\n",
              "      display: none;\n",
              "      fill: #1967D2;\n",
              "      height: 32px;\n",
              "      padding: 0 0 0 0;\n",
              "      width: 32px;\n",
              "    }\n",
              "\n",
              "    .colab-df-convert:hover {\n",
              "      background-color: #E2EBFA;\n",
              "      box-shadow: 0px 1px 2px rgba(60, 64, 67, 0.3), 0px 1px 3px 1px rgba(60, 64, 67, 0.15);\n",
              "      fill: #174EA6;\n",
              "    }\n",
              "\n",
              "    [theme=dark] .colab-df-convert {\n",
              "      background-color: #3B4455;\n",
              "      fill: #D2E3FC;\n",
              "    }\n",
              "\n",
              "    [theme=dark] .colab-df-convert:hover {\n",
              "      background-color: #434B5C;\n",
              "      box-shadow: 0px 1px 3px 1px rgba(0, 0, 0, 0.15);\n",
              "      filter: drop-shadow(0px 1px 2px rgba(0, 0, 0, 0.3));\n",
              "      fill: #FFFFFF;\n",
              "    }\n",
              "  </style>\n",
              "\n",
              "      <script>\n",
              "        const buttonEl =\n",
              "          document.querySelector('#df-2ff06865-2ebe-43ed-9325-726284d0050f button.colab-df-convert');\n",
              "        buttonEl.style.display =\n",
              "          google.colab.kernel.accessAllowed ? 'block' : 'none';\n",
              "\n",
              "        async function convertToInteractive(key) {\n",
              "          const element = document.querySelector('#df-2ff06865-2ebe-43ed-9325-726284d0050f');\n",
              "          const dataTable =\n",
              "            await google.colab.kernel.invokeFunction('convertToInteractive',\n",
              "                                                     [key], {});\n",
              "          if (!dataTable) return;\n",
              "\n",
              "          const docLinkHtml = 'Like what you see? Visit the ' +\n",
              "            '<a target=\"_blank\" href=https://colab.research.google.com/notebooks/data_table.ipynb>data table notebook</a>'\n",
              "            + ' to learn more about interactive tables.';\n",
              "          element.innerHTML = '';\n",
              "          dataTable['output_type'] = 'display_data';\n",
              "          await google.colab.output.renderOutput(dataTable, element);\n",
              "          const docLink = document.createElement('div');\n",
              "          docLink.innerHTML = docLinkHtml;\n",
              "          element.appendChild(docLink);\n",
              "        }\n",
              "      </script>\n",
              "    </div>\n",
              "  </div>\n",
              "  "
            ]
          },
          "metadata": {},
          "execution_count": 4
        }
      ]
    },
    {
      "cell_type": "markdown",
      "source": [
        "stl df"
      ],
      "metadata": {
        "id": "r2PliEznBEOn"
      }
    },
    {
      "cell_type": "code",
      "source": [
        "df_stlouis"
      ],
      "metadata": {
        "id": "cCqp7OFBBDa3",
        "outputId": "97ce9c8c-afa8-4ef0-ac29-aeab8d4efaf4",
        "colab": {
          "base_uri": "https://localhost:8080/",
          "height": 424
        }
      },
      "execution_count": 5,
      "outputs": [
        {
          "output_type": "execute_result",
          "data": {
            "text/plain": [
              "           STATION                       NAME        DATE  DAPR  MDPR  PRCP  \\\n",
              "0      US1MOSS0027  ST. CHARLES 2.3 NE, MO US  2017-01-01   NaN   NaN  0.00   \n",
              "1      US1MOSS0027  ST. CHARLES 2.3 NE, MO US  2017-01-03   NaN   NaN  0.35   \n",
              "2      US1MOSS0027  ST. CHARLES 2.3 NE, MO US  2017-01-04   NaN   NaN  0.03   \n",
              "3      US1MOSS0027  ST. CHARLES 2.3 NE, MO US  2017-01-05   NaN   NaN  0.04   \n",
              "4      US1MOSS0027  ST. CHARLES 2.3 NE, MO US  2017-01-06   NaN   NaN  0.00   \n",
              "...            ...                        ...         ...   ...   ...   ...   \n",
              "54569  US1MOSL0084   DES PERES 0.7 SSW, MO US  2022-12-08   NaN   NaN  0.00   \n",
              "54570  US1MOSL0084   DES PERES 0.7 SSW, MO US  2022-12-13   NaN   NaN  0.00   \n",
              "54571  US1MOSL0084   DES PERES 0.7 SSW, MO US  2022-12-14   NaN   NaN  0.89   \n",
              "54572  US1MOSL0084   DES PERES 0.7 SSW, MO US  2022-12-15   NaN   NaN  0.36   \n",
              "54573  US1MOSL0084   DES PERES 0.7 SSW, MO US  2022-12-16   NaN   NaN  0.00   \n",
              "\n",
              "       SNOW  SNWD  \n",
              "0       0.0   NaN  \n",
              "1       NaN   NaN  \n",
              "2       NaN   NaN  \n",
              "3       1.2   NaN  \n",
              "4       0.0   1.0  \n",
              "...     ...   ...  \n",
              "54569   NaN   NaN  \n",
              "54570   0.0   NaN  \n",
              "54571   NaN   NaN  \n",
              "54572   NaN   NaN  \n",
              "54573   0.0   NaN  \n",
              "\n",
              "[54574 rows x 8 columns]"
            ],
            "text/html": [
              "\n",
              "  <div id=\"df-05b58cba-8edb-4f9f-9273-ea1bd9bb90ec\">\n",
              "    <div class=\"colab-df-container\">\n",
              "      <div>\n",
              "<style scoped>\n",
              "    .dataframe tbody tr th:only-of-type {\n",
              "        vertical-align: middle;\n",
              "    }\n",
              "\n",
              "    .dataframe tbody tr th {\n",
              "        vertical-align: top;\n",
              "    }\n",
              "\n",
              "    .dataframe thead th {\n",
              "        text-align: right;\n",
              "    }\n",
              "</style>\n",
              "<table border=\"1\" class=\"dataframe\">\n",
              "  <thead>\n",
              "    <tr style=\"text-align: right;\">\n",
              "      <th></th>\n",
              "      <th>STATION</th>\n",
              "      <th>NAME</th>\n",
              "      <th>DATE</th>\n",
              "      <th>DAPR</th>\n",
              "      <th>MDPR</th>\n",
              "      <th>PRCP</th>\n",
              "      <th>SNOW</th>\n",
              "      <th>SNWD</th>\n",
              "    </tr>\n",
              "  </thead>\n",
              "  <tbody>\n",
              "    <tr>\n",
              "      <th>0</th>\n",
              "      <td>US1MOSS0027</td>\n",
              "      <td>ST. CHARLES 2.3 NE, MO US</td>\n",
              "      <td>2017-01-01</td>\n",
              "      <td>NaN</td>\n",
              "      <td>NaN</td>\n",
              "      <td>0.00</td>\n",
              "      <td>0.0</td>\n",
              "      <td>NaN</td>\n",
              "    </tr>\n",
              "    <tr>\n",
              "      <th>1</th>\n",
              "      <td>US1MOSS0027</td>\n",
              "      <td>ST. CHARLES 2.3 NE, MO US</td>\n",
              "      <td>2017-01-03</td>\n",
              "      <td>NaN</td>\n",
              "      <td>NaN</td>\n",
              "      <td>0.35</td>\n",
              "      <td>NaN</td>\n",
              "      <td>NaN</td>\n",
              "    </tr>\n",
              "    <tr>\n",
              "      <th>2</th>\n",
              "      <td>US1MOSS0027</td>\n",
              "      <td>ST. CHARLES 2.3 NE, MO US</td>\n",
              "      <td>2017-01-04</td>\n",
              "      <td>NaN</td>\n",
              "      <td>NaN</td>\n",
              "      <td>0.03</td>\n",
              "      <td>NaN</td>\n",
              "      <td>NaN</td>\n",
              "    </tr>\n",
              "    <tr>\n",
              "      <th>3</th>\n",
              "      <td>US1MOSS0027</td>\n",
              "      <td>ST. CHARLES 2.3 NE, MO US</td>\n",
              "      <td>2017-01-05</td>\n",
              "      <td>NaN</td>\n",
              "      <td>NaN</td>\n",
              "      <td>0.04</td>\n",
              "      <td>1.2</td>\n",
              "      <td>NaN</td>\n",
              "    </tr>\n",
              "    <tr>\n",
              "      <th>4</th>\n",
              "      <td>US1MOSS0027</td>\n",
              "      <td>ST. CHARLES 2.3 NE, MO US</td>\n",
              "      <td>2017-01-06</td>\n",
              "      <td>NaN</td>\n",
              "      <td>NaN</td>\n",
              "      <td>0.00</td>\n",
              "      <td>0.0</td>\n",
              "      <td>1.0</td>\n",
              "    </tr>\n",
              "    <tr>\n",
              "      <th>...</th>\n",
              "      <td>...</td>\n",
              "      <td>...</td>\n",
              "      <td>...</td>\n",
              "      <td>...</td>\n",
              "      <td>...</td>\n",
              "      <td>...</td>\n",
              "      <td>...</td>\n",
              "      <td>...</td>\n",
              "    </tr>\n",
              "    <tr>\n",
              "      <th>54569</th>\n",
              "      <td>US1MOSL0084</td>\n",
              "      <td>DES PERES 0.7 SSW, MO US</td>\n",
              "      <td>2022-12-08</td>\n",
              "      <td>NaN</td>\n",
              "      <td>NaN</td>\n",
              "      <td>0.00</td>\n",
              "      <td>NaN</td>\n",
              "      <td>NaN</td>\n",
              "    </tr>\n",
              "    <tr>\n",
              "      <th>54570</th>\n",
              "      <td>US1MOSL0084</td>\n",
              "      <td>DES PERES 0.7 SSW, MO US</td>\n",
              "      <td>2022-12-13</td>\n",
              "      <td>NaN</td>\n",
              "      <td>NaN</td>\n",
              "      <td>0.00</td>\n",
              "      <td>0.0</td>\n",
              "      <td>NaN</td>\n",
              "    </tr>\n",
              "    <tr>\n",
              "      <th>54571</th>\n",
              "      <td>US1MOSL0084</td>\n",
              "      <td>DES PERES 0.7 SSW, MO US</td>\n",
              "      <td>2022-12-14</td>\n",
              "      <td>NaN</td>\n",
              "      <td>NaN</td>\n",
              "      <td>0.89</td>\n",
              "      <td>NaN</td>\n",
              "      <td>NaN</td>\n",
              "    </tr>\n",
              "    <tr>\n",
              "      <th>54572</th>\n",
              "      <td>US1MOSL0084</td>\n",
              "      <td>DES PERES 0.7 SSW, MO US</td>\n",
              "      <td>2022-12-15</td>\n",
              "      <td>NaN</td>\n",
              "      <td>NaN</td>\n",
              "      <td>0.36</td>\n",
              "      <td>NaN</td>\n",
              "      <td>NaN</td>\n",
              "    </tr>\n",
              "    <tr>\n",
              "      <th>54573</th>\n",
              "      <td>US1MOSL0084</td>\n",
              "      <td>DES PERES 0.7 SSW, MO US</td>\n",
              "      <td>2022-12-16</td>\n",
              "      <td>NaN</td>\n",
              "      <td>NaN</td>\n",
              "      <td>0.00</td>\n",
              "      <td>0.0</td>\n",
              "      <td>NaN</td>\n",
              "    </tr>\n",
              "  </tbody>\n",
              "</table>\n",
              "<p>54574 rows × 8 columns</p>\n",
              "</div>\n",
              "      <button class=\"colab-df-convert\" onclick=\"convertToInteractive('df-05b58cba-8edb-4f9f-9273-ea1bd9bb90ec')\"\n",
              "              title=\"Convert this dataframe to an interactive table.\"\n",
              "              style=\"display:none;\">\n",
              "        \n",
              "  <svg xmlns=\"http://www.w3.org/2000/svg\" height=\"24px\"viewBox=\"0 0 24 24\"\n",
              "       width=\"24px\">\n",
              "    <path d=\"M0 0h24v24H0V0z\" fill=\"none\"/>\n",
              "    <path d=\"M18.56 5.44l.94 2.06.94-2.06 2.06-.94-2.06-.94-.94-2.06-.94 2.06-2.06.94zm-11 1L8.5 8.5l.94-2.06 2.06-.94-2.06-.94L8.5 2.5l-.94 2.06-2.06.94zm10 10l.94 2.06.94-2.06 2.06-.94-2.06-.94-.94-2.06-.94 2.06-2.06.94z\"/><path d=\"M17.41 7.96l-1.37-1.37c-.4-.4-.92-.59-1.43-.59-.52 0-1.04.2-1.43.59L10.3 9.45l-7.72 7.72c-.78.78-.78 2.05 0 2.83L4 21.41c.39.39.9.59 1.41.59.51 0 1.02-.2 1.41-.59l7.78-7.78 2.81-2.81c.8-.78.8-2.07 0-2.86zM5.41 20L4 18.59l7.72-7.72 1.47 1.35L5.41 20z\"/>\n",
              "  </svg>\n",
              "      </button>\n",
              "      \n",
              "  <style>\n",
              "    .colab-df-container {\n",
              "      display:flex;\n",
              "      flex-wrap:wrap;\n",
              "      gap: 12px;\n",
              "    }\n",
              "\n",
              "    .colab-df-convert {\n",
              "      background-color: #E8F0FE;\n",
              "      border: none;\n",
              "      border-radius: 50%;\n",
              "      cursor: pointer;\n",
              "      display: none;\n",
              "      fill: #1967D2;\n",
              "      height: 32px;\n",
              "      padding: 0 0 0 0;\n",
              "      width: 32px;\n",
              "    }\n",
              "\n",
              "    .colab-df-convert:hover {\n",
              "      background-color: #E2EBFA;\n",
              "      box-shadow: 0px 1px 2px rgba(60, 64, 67, 0.3), 0px 1px 3px 1px rgba(60, 64, 67, 0.15);\n",
              "      fill: #174EA6;\n",
              "    }\n",
              "\n",
              "    [theme=dark] .colab-df-convert {\n",
              "      background-color: #3B4455;\n",
              "      fill: #D2E3FC;\n",
              "    }\n",
              "\n",
              "    [theme=dark] .colab-df-convert:hover {\n",
              "      background-color: #434B5C;\n",
              "      box-shadow: 0px 1px 3px 1px rgba(0, 0, 0, 0.15);\n",
              "      filter: drop-shadow(0px 1px 2px rgba(0, 0, 0, 0.3));\n",
              "      fill: #FFFFFF;\n",
              "    }\n",
              "  </style>\n",
              "\n",
              "      <script>\n",
              "        const buttonEl =\n",
              "          document.querySelector('#df-05b58cba-8edb-4f9f-9273-ea1bd9bb90ec button.colab-df-convert');\n",
              "        buttonEl.style.display =\n",
              "          google.colab.kernel.accessAllowed ? 'block' : 'none';\n",
              "\n",
              "        async function convertToInteractive(key) {\n",
              "          const element = document.querySelector('#df-05b58cba-8edb-4f9f-9273-ea1bd9bb90ec');\n",
              "          const dataTable =\n",
              "            await google.colab.kernel.invokeFunction('convertToInteractive',\n",
              "                                                     [key], {});\n",
              "          if (!dataTable) return;\n",
              "\n",
              "          const docLinkHtml = 'Like what you see? Visit the ' +\n",
              "            '<a target=\"_blank\" href=https://colab.research.google.com/notebooks/data_table.ipynb>data table notebook</a>'\n",
              "            + ' to learn more about interactive tables.';\n",
              "          element.innerHTML = '';\n",
              "          dataTable['output_type'] = 'display_data';\n",
              "          await google.colab.output.renderOutput(dataTable, element);\n",
              "          const docLink = document.createElement('div');\n",
              "          docLink.innerHTML = docLinkHtml;\n",
              "          element.appendChild(docLink);\n",
              "        }\n",
              "      </script>\n",
              "    </div>\n",
              "  </div>\n",
              "  "
            ]
          },
          "metadata": {},
          "execution_count": 5
        }
      ]
    },
    {
      "cell_type": "markdown",
      "source": [
        "## Convert data types, if necessary"
      ],
      "metadata": {
        "id": "kTG4W94-irIA"
      }
    },
    {
      "cell_type": "markdown",
      "source": [
        "convert 'DATE' into a datetime obj for both df_seattle and df_stlouis"
      ],
      "metadata": {
        "id": "e2IgmURrBa8t"
      }
    },
    {
      "cell_type": "code",
      "source": [
        "df_seattle['DATE'] = pd.to_datetime(df_seattle['DATE'])\n",
        "df_stlouis['DATE'] = pd.to_datetime(df_stlouis['DATE'])"
      ],
      "metadata": {
        "id": "7nGCTl1hBQVr"
      },
      "execution_count": 6,
      "outputs": []
    },
    {
      "cell_type": "markdown",
      "source": [
        "## Are the data suitable for answering the question?"
      ],
      "metadata": {
        "id": "35pKxSfb2zIs"
      }
    },
    {
      "cell_type": "markdown",
      "source": [
        "We want to perform quick exploratory data analysis to determine whether the data are sufficient to answer our question. If the data are not sufficient, we do not want to waste time doing anything that will not be productive."
      ],
      "metadata": {
        "id": "kywuWQaG22rv"
      }
    },
    {
      "cell_type": "markdown",
      "source": [
        "## Select relevant subsets of the data"
      ],
      "metadata": {
        "id": "HbsdH56_ijIS"
      }
    },
    {
      "cell_type": "markdown",
      "source": [
        "## Identify and deal with missing values"
      ],
      "metadata": {
        "id": "aAaUY6N1rtoa"
      }
    },
    {
      "cell_type": "markdown",
      "source": [
        "## Join data frames keeping `DATE` and `PRCP` columns"
      ],
      "metadata": {
        "id": "BkCnFJdVryvv"
      }
    },
    {
      "cell_type": "markdown",
      "source": [
        "## Create a tidy data frame with columns for city and precipitation"
      ],
      "metadata": {
        "id": "TklEWrlhsEiQ"
      }
    },
    {
      "cell_type": "markdown",
      "source": [
        "### Rename columns or values to follow best practices"
      ],
      "metadata": {
        "id": "ePmgfgrosQWN"
      }
    },
    {
      "cell_type": "markdown",
      "source": [
        "## Create relevant derived variables as new columns"
      ],
      "metadata": {
        "id": "2IZlt3PksMUK"
      }
    },
    {
      "cell_type": "markdown",
      "source": [
        "We may already know that we want to process the data to create new variables from the existing variables. However, we often start analyzing the data and realize that it is useful to create new variables derived from the existing variables. It is fine to return to modify this step after exploring the data further."
      ],
      "metadata": {
        "id": "hxBtraVUkDxr"
      }
    },
    {
      "cell_type": "markdown",
      "source": [
        "## Export the clean .csv file"
      ],
      "metadata": {
        "id": "oKGHtonZsZCM"
      }
    },
    {
      "cell_type": "code",
      "source": [],
      "metadata": {
        "id": "lp0iLYOqKtbQ"
      },
      "execution_count": null,
      "outputs": []
    }
  ]
}